{
  "nbformat": 4,
  "nbformat_minor": 0,
  "metadata": {
    "colab": {
      "provenance": [],
      "collapsed_sections": [
        "5MO6pdgar8tn",
        "dcKG68tQs_TO",
        "tPCBPwU5uqS3",
        "ku40QuVw3Ls2",
        "njVvtYDUuvM1",
        "G5gv7MoGvuO9",
        "ulCpjqmtvzJu",
        "5T9ktG-5v5nr",
        "jWney2-qw2hG",
        "459VUwTDx2DT"
      ]
    },
    "kernelspec": {
      "name": "python3",
      "display_name": "Python 3"
    },
    "language_info": {
      "name": "python"
    }
  },
  "cells": [
    {
      "cell_type": "markdown",
      "source": [
        "# KNN For heart Disease prediction"
      ],
      "metadata": {
        "id": "oKeaxQxEqss7"
      }
    },
    {
      "cell_type": "markdown",
      "source": [
        "###  Import Necessary Libraries"
      ],
      "metadata": {
        "id": "5MO6pdgar8tn"
      }
    },
    {
      "cell_type": "code",
      "source": [
        "import numpy as np\n",
        "import pandas as pd\n",
        "import seaborn as sns\n",
        "import matplotlib.pyplot as plt\n",
        "from sklearn.model_selection import train_test_split\n",
        "from sklearn.preprocessing import StandardScaler\n",
        "from sklearn.neighbors import KNeighborsClassifier\n",
        "from sklearn.metrics import accuracy_score, classification_report, confusion_matrix"
      ],
      "metadata": {
        "id": "VefdxivsrZ0b"
      },
      "execution_count": null,
      "outputs": []
    },
    {
      "cell_type": "markdown",
      "source": [
        "### Load the Dataset"
      ],
      "metadata": {
        "id": "dcKG68tQs_TO"
      }
    },
    {
      "cell_type": "code",
      "source": [
        "\n",
        "# Assuming your dataset is stored in a CSV file named 'heart.csv'\n",
        "df = pd.read_csv('heart.csv')\n",
        "# Display the first few rows of the dataset\n",
        "print(df.head())"
      ],
      "metadata": {
        "colab": {
          "base_uri": "https://localhost:8080/"
        },
        "id": "0R5GC0PksF6K",
        "outputId": "a0dcab40-68d9-4aa0-de94-b019627d360c"
      },
      "execution_count": null,
      "outputs": [
        {
          "output_type": "stream",
          "name": "stdout",
          "text": [
            "   age  sex  cp  trestbps  chol  fbs  restecg  thalach  exang  oldpeak  slope  \\\n",
            "0   70    1   3       130   322    0        2      109      0      2.4      1   \n",
            "1   67    0   2       115   564    0        2      160      0      1.6      1   \n",
            "2   57    1   1       124   261    0        0      141      0      0.3      0   \n",
            "3   64    1   3       128   263    0        0      105      1      0.2      1   \n",
            "4   74    0   1       120   269    0        2      121      1      0.2      0   \n",
            "\n",
            "   ca  thal  target  \n",
            "0   3     1       1  \n",
            "1   0     3       0  \n",
            "2   0     3       1  \n",
            "3   1     3       0  \n",
            "4   1     1       0  \n"
          ]
        }
      ]
    },
    {
      "cell_type": "markdown",
      "source": [
        "###  Data Preprocessing"
      ],
      "metadata": {
        "id": "tPCBPwU5uqS3"
      }
    },
    {
      "cell_type": "code",
      "source": [
        "\n",
        "# Separate features (X) and target variable (y)\n",
        "X = df.drop('target', axis=1)\n",
        "y = df['target']\n",
        "# Split the dataset into training and testing sets\n",
        "X_train, X_test, y_train, y_test = train_test_split(X, y, test_size=0.2, random_state=42)\n",
        "# Standardize the features (important for KNN)\n",
        "scaler = StandardScaler()\n",
        "X_train_scaled = scaler.fit_transform(X_train)\n",
        "X_test_scaled = scaler.transform(X_test)\n",
        "\n"
      ],
      "metadata": {
        "id": "ZJcpzi7Xtcrw"
      },
      "execution_count": null,
      "outputs": []
    },
    {
      "cell_type": "markdown",
      "source": [
        "###  Trouver la meilleure valeur de k"
      ],
      "metadata": {
        "id": "ku40QuVw3Ls2"
      }
    },
    {
      "cell_type": "code",
      "source": [
        "k_values = list(range(1, 21))\n",
        "#IMPORTANT\n",
        "# Initialiser une liste pour stocker les scores de validation croisée\n",
        "cross_val_scores = []\n",
        "# Effectuer la validation croisée pour chaque valeur de k\n",
        "for k in k_values:\n",
        "  knn_classifier = KNeighborsClassifier(n_neighbors=k)\n",
        "  scores = cross_val_score(knn_classifier, X_train, y_train, cv=5) # 5-fold cross-validation\n",
        "  cross_val_scores.append(np.mean(scores))\n",
        "# Trouver la meilleure valeur de k\n",
        "best_k = k_values[np.argmax(cross_val_scores)]\n",
        "print(\"Meilleure valeur de k :\", best_k)"
      ],
      "metadata": {
        "colab": {
          "base_uri": "https://localhost:8080/"
        },
        "id": "HHsE9KwR3HVx",
        "outputId": "b8c7da79-c210-4817-f202-129c41c463b9"
      },
      "execution_count": null,
      "outputs": [
        {
          "output_type": "stream",
          "name": "stdout",
          "text": [
            "Meilleure valeur de k : 5\n"
          ]
        }
      ]
    },
    {
      "cell_type": "code",
      "source": [
        "# Tracer les performances en fonction de k\n",
        "plt.plot(k_values, cross_val_scores, marker='o')\n",
        "plt.title('Performance du modèle en fonction de k')\n",
        "plt.xlabel('Nombre de voisins (k)')\n",
        "plt.ylabel('Score de validation croisée moyen')\n",
        "plt.show()"
      ],
      "metadata": {
        "colab": {
          "base_uri": "https://localhost:8080/",
          "height": 472
        },
        "id": "qsdYZCYD3hPm",
        "outputId": "e76d4f2c-f59d-4b8e-d0f4-a7d35a989fca"
      },
      "execution_count": null,
      "outputs": [
        {
          "output_type": "display_data",
          "data": {
            "text/plain": [
              "<Figure size 640x480 with 1 Axes>"
            ],
            "image/png": "[encoded data removed]"
          },
          "metadata": {}
        }
      ]
    },
    {
      "cell_type": "markdown",
      "source": [
        "### Data Visualization"
      ],
      "metadata": {
        "id": "njVvtYDUuvM1"
      }
    },
    {
      "cell_type": "code",
      "source": [
        "# Visualize the distribution of the target variable\n",
        "sns.countplot(x='target', data=df)\n",
        "plt.title('Distribution of Target Variable')\n",
        "plt.show()"
      ],
      "metadata": {
        "colab": {
          "base_uri": "https://localhost:8080/",
          "height": 472
        },
        "id": "_zo4v7X2uz3B",
        "outputId": "ba9c85ca-7d17-451a-de37-7cd42faa9043"
      },
      "execution_count": null,
      "outputs": [
        {
          "output_type": "display_data",
          "data": {
            "text/plain": [
              "<Figure size 640x480 with 1 Axes>"
            ],
            "image/png": "[encoded data removed]"
          },
          "metadata": {}
        }
      ]
    },
    {
      "cell_type": "markdown",
      "source": [
        "### Train the KNN Classifier"
      ],
      "metadata": {
        "id": "G5gv7MoGvuO9"
      }
    },
    {
      "cell_type": "code",
      "source": [
        "# Choose the value of k (number of neighbors)\n",
        "k_value = 3\n",
        "# Create and train the KNN classifier\n",
        "knn_classifier = KNeighborsClassifier(n_neighbors=k_value)\n",
        "knn_classifier.fit(X_train_scaled, y_train)"
      ],
      "metadata": {
        "colab": {
          "base_uri": "https://localhost:8080/",
          "height": 74
        },
        "id": "MWlKXnmLvNx3",
        "outputId": "9bee05c6-0156-4186-bb1d-a1355f6075df"
      },
      "execution_count": null,
      "outputs": [
        {
          "output_type": "execute_result",
          "data": {
            "text/plain": [
              "KNeighborsClassifier(n_neighbors=3)"
            ],
            "text/html": [
              "<style>#sk-container-id-1 {color: black;background-color: white;}#sk-container-id-1 pre{padding: 0;}#sk-container-id-1 div.sk-toggleable {background-color: white;}#sk-container-id-1 label.sk-toggleable__label {cursor: pointer;display: block;width: 100%;margin-bottom: 0;padding: 0.3em;box-sizing: border-box;text-align: center;}#sk-container-id-1 label.sk-toggleable__label-arrow:before {content: \"▸\";float: left;margin-right: 0.25em;color: #696969;}#sk-container-id-1 label.sk-toggleable__label-arrow:hover:before {color: black;}#sk-container-id-1 div.sk-estimator:hover label.sk-toggleable__label-arrow:before {color: black;}#sk-container-id-1 div.sk-toggleable__content {max-height: 0;max-width: 0;overflow: hidden;text-align: left;background-color: #f0f8ff;}#sk-container-id-1 div.sk-toggleable__content pre {margin: 0.2em;color: black;border-radius: 0.25em;background-color: #f0f8ff;}#sk-container-id-1 input.sk-toggleable__control:checked~div.sk-toggleable__content {max-height: 200px;max-width: 100%;overflow: auto;}#sk-container-id-1 input.sk-toggleable__control:checked~label.sk-toggleable__label-arrow:before {content: \"▾\";}#sk-container-id-1 div.sk-estimator input.sk-toggleable__control:checked~label.sk-toggleable__label {background-color: #d4ebff;}#sk-container-id-1 div.sk-label input.sk-toggleable__control:checked~label.sk-toggleable__label {background-color: #d4ebff;}#sk-container-id-1 input.sk-hidden--visually {border: 0;clip: rect(1px 1px 1px 1px);clip: rect(1px, 1px, 1px, 1px);height: 1px;margin: -1px;overflow: hidden;padding: 0;position: absolute;width: 1px;}#sk-container-id-1 div.sk-estimator {font-family: monospace;background-color: #f0f8ff;border: 1px dotted black;border-radius: 0.25em;box-sizing: border-box;margin-bottom: 0.5em;}#sk-container-id-1 div.sk-estimator:hover {background-color: #d4ebff;}#sk-container-id-1 div.sk-parallel-item::after {content: \"\";width: 100%;border-bottom: 1px solid gray;flex-grow: 1;}#sk-container-id-1 div.sk-label:hover label.sk-toggleable__label {background-color: #d4ebff;}#sk-container-id-1 div.sk-serial::before {content: \"\";position: absolute;border-left: 1px solid gray;box-sizing: border-box;top: 0;bottom: 0;left: 50%;z-index: 0;}#sk-container-id-1 div.sk-serial {display: flex;flex-direction: column;align-items: center;background-color: white;padding-right: 0.2em;padding-left: 0.2em;position: relative;}#sk-container-id-1 div.sk-item {position: relative;z-index: 1;}#sk-container-id-1 div.sk-parallel {display: flex;align-items: stretch;justify-content: center;background-color: white;position: relative;}#sk-container-id-1 div.sk-item::before, #sk-container-id-1 div.sk-parallel-item::before {content: \"\";position: absolute;border-left: 1px solid gray;box-sizing: border-box;top: 0;bottom: 0;left: 50%;z-index: -1;}#sk-container-id-1 div.sk-parallel-item {display: flex;flex-direction: column;z-index: 1;position: relative;background-color: white;}#sk-container-id-1 div.sk-parallel-item:first-child::after {align-self: flex-end;width: 50%;}#sk-container-id-1 div.sk-parallel-item:last-child::after {align-self: flex-start;width: 50%;}#sk-container-id-1 div.sk-parallel-item:only-child::after {width: 0;}#sk-container-id-1 div.sk-dashed-wrapped {border: 1px dashed gray;margin: 0 0.4em 0.5em 0.4em;box-sizing: border-box;padding-bottom: 0.4em;background-color: white;}#sk-container-id-1 div.sk-label label {font-family: monospace;font-weight: bold;display: inline-block;line-height: 1.2em;}#sk-container-id-1 div.sk-label-container {text-align: center;}#sk-container-id-1 div.sk-container {/* jupyter's `normalize.less` sets `[hidden] { display: none; }` but bootstrap.min.css set `[hidden] { display: none !important; }` so we also need the `!important` here to be able to override the default hidden behavior on the sphinx rendered scikit-learn.org. See: https://github.com/scikit-learn/scikit-learn/issues/21755 */display: inline-block !important;position: relative;}#sk-container-id-1 div.sk-text-repr-fallback {display: none;}</style><div id=\"sk-container-id-1\" class=\"sk-top-container\"><div class=\"sk-text-repr-fallback\"><pre>KNeighborsClassifier(n_neighbors=3)</pre><b>In a Jupyter environment, please rerun this cell to show the HTML representation or trust the notebook. <br />On GitHub, the HTML representation is unable to render, please try loading this page with nbviewer.org.</b></div><div class=\"sk-container\" hidden><div class=\"sk-item\"><div class=\"sk-estimator sk-toggleable\"><input class=\"sk-toggleable__control sk-hidden--visually\" id=\"sk-estimator-id-1\" type=\"checkbox\" checked><label for=\"sk-estimator-id-1\" class=\"sk-toggleable__label sk-toggleable__label-arrow\">KNeighborsClassifier</label><div class=\"sk-toggleable__content\"><pre>KNeighborsClassifier(n_neighbors=3)</pre></div></div></div></div></div>"
            ]
          },
          "metadata": {},
          "execution_count": 6
        }
      ]
    },
    {
      "cell_type": "markdown",
      "source": [
        "### Make Predictions"
      ],
      "metadata": {
        "id": "ulCpjqmtvzJu"
      }
    },
    {
      "cell_type": "code",
      "source": [
        "# Predict on the test set\n",
        "y_pred = knn_classifier.predict(X_test_scaled)"
      ],
      "metadata": {
        "id": "fjxuuQnvv30r"
      },
      "execution_count": null,
      "outputs": []
    },
    {
      "cell_type": "markdown",
      "source": [
        "### Evaluate the Model"
      ],
      "metadata": {
        "id": "5T9ktG-5v5nr"
      }
    },
    {
      "cell_type": "code",
      "source": [
        "# Calculate accuracy\n",
        "accuracy = accuracy_score(y_test, y_pred)\n",
        "print(f\"Accuracy: {accuracy:.2f}\")\n",
        "# Display classification report print(\"Classification Report:\")\n",
        "print(classification_report(y_test, y_pred))\n",
        "# Display confusion matrix print(\"Confusion Matrix:\")\n",
        "print(confusion_matrix(y_test, y_pred))"
      ],
      "metadata": {
        "colab": {
          "base_uri": "https://localhost:8080/"
        },
        "id": "Odjdw2cuv6na",
        "outputId": "5a3028a3-0217-4ffb-ac35-a11ec063cdce"
      },
      "execution_count": null,
      "outputs": [
        {
          "output_type": "stream",
          "name": "stdout",
          "text": [
            "Accuracy: 0.83\n",
            "              precision    recall  f1-score   support\n",
            "\n",
            "           0       0.82      0.94      0.87        33\n",
            "           1       0.88      0.67      0.76        21\n",
            "\n",
            "    accuracy                           0.83        54\n",
            "   macro avg       0.85      0.80      0.81        54\n",
            "weighted avg       0.84      0.83      0.83        54\n",
            "\n",
            "[[31  2]\n",
            " [ 7 14]]\n"
          ]
        }
      ]
    },
    {
      "cell_type": "markdown",
      "source": [
        "###  Confusion Matrix Plot"
      ],
      "metadata": {
        "id": "jWney2-qw2hG"
      }
    },
    {
      "cell_type": "code",
      "source": [
        "# prompt: afficher la matrice de confusion avec une couleur rouge\n",
        "\n",
        "import seaborn as sns\n",
        "sns.heatmap(confusion_matrix(y_test, y_pred), annot=True, fmt='d', cmap='Reds',\n",
        "cbar=False)\n",
        "plt.title('Confusion Matrix')\n",
        "plt.xlabel('Predicted')\n",
        "plt.ylabel('True')\n",
        "plt.show()\n"
      ],
      "metadata": {
        "colab": {
          "base_uri": "https://localhost:8080/",
          "height": 472
        },
        "id": "o3FjbMM9we8T",
        "outputId": "9608f3e6-bff8-4c58-a5e0-84d5c500c984"
      },
      "execution_count": null,
      "outputs": [
        {
          "output_type": "display_data",
          "data": {
            "text/plain": [
              "<Figure size 640x480 with 1 Axes>"
            ],
            "image/png": "[encoded data removed]"
          },
          "metadata": {}
        }
      ]
    },
    {
      "cell_type": "markdown",
      "source": [
        "### Optimize the Model"
      ],
      "metadata": {
        "id": "459VUwTDx2DT"
      }
    },
    {
      "cell_type": "markdown",
      "source": [
        "You can experiment with different values of k and other parameters to optimize the model.\n",
        "For example:"
      ],
      "metadata": {
        "id": "3xHjJ-Bex834"
      }
    },
    {
      "cell_type": "code",
      "source": [
        "# Try different values of k\n",
        "for k_value in range(1, 10):\n",
        "  knn_classifier = KNeighborsClassifier(n_neighbors=k_value)\n",
        "  knn_classifier.fit(X_train_scaled, y_train)\n",
        "  y_pred = knn_classifier.predict(X_test_scaled)\n",
        "  accuracy = accuracy_score(y_test, y_pred)\n",
        "  print(f\"Accuracy for k={k_value}: {accuracy:.2f}\")"
      ],
      "metadata": {
        "colab": {
          "base_uri": "https://localhost:8080/"
        },
        "id": "DM3ZLmU7xUid",
        "outputId": "8fac9185-c0fe-4753-b179-c8c583213491"
      },
      "execution_count": null,
      "outputs": [
        {
          "output_type": "stream",
          "name": "stdout",
          "text": [
            "Accuracy for k=1: 0.81\n",
            "Accuracy for k=2: 0.80\n",
            "Accuracy for k=3: 0.83\n",
            "Accuracy for k=4: 0.81\n",
            "Accuracy for k=5: 0.80\n",
            "Accuracy for k=6: 0.81\n",
            "Accuracy for k=7: 0.87\n",
            "Accuracy for k=8: 0.85\n",
            "Accuracy for k=9: 0.83\n"
          ]
        }
      ]
    },
    {
      "cell_type": "code",
      "source": [
        "# prompt: code pour optimiser le model  k allant de 1 a 10\n",
        "\n",
        "# Optimize the model\n",
        "best_accuracy = 0\n",
        "best_k = 0\n",
        "for k in range(1, 11):\n",
        "  knn_classifier = KNeighborsClassifier(n_neighbors=k)\n",
        "  knn_classifier.fit(X_train_scaled, y_train)\n",
        "  accuracy = accuracy_score(y_test, knn_classifier.predict(X_test_scaled))\n",
        "  if accuracy > best_accuracy:\n",
        "    best_accuracy = accuracy\n",
        "    best_k = k\n",
        "print(f\"Best accuracy: {best_accuracy:.2f} with k={best_k}\")"
      ],
      "metadata": {
        "colab": {
          "base_uri": "https://localhost:8080/"
        },
        "id": "p3TP9A4XyOEU",
        "outputId": "da3770d8-be66-4e76-b8db-96da6636d2be"
      },
      "execution_count": null,
      "outputs": [
        {
          "output_type": "stream",
          "name": "stdout",
          "text": [
            "Best accuracy: 0.87 with k=7\n"
          ]
        }
      ]
    },
    {
      "cell_type": "code",
      "source": [],
      "metadata": {
        "id": "LjE1noqnz--9"
      },
      "execution_count": null,
      "outputs": []
    }
  ]
}